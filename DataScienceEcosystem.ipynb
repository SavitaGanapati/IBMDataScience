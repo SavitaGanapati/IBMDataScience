{
 "cells": [
  {
   "cell_type": "markdown",
   "id": "bb733146",
   "metadata": {},
   "source": [
    "###  Exercise 1: Create a Jupyter Notebook"
   ]
  },
  {
   "cell_type": "markdown",
   "id": "d1196ad6",
   "metadata": {},
   "source": [
    "### Exercise 2 - Create a markdown cell with the title of the notebook.\n",
    "# Data Science Tools and Ecosystem"
   ]
  },
  {
   "cell_type": "markdown",
   "id": "a75fc9c2",
   "metadata": {},
   "source": [
    "### Exercise 3 - Create a markdown cell for an introduction\n",
    "In this notebook, Data Science Tools and Ecosystem are summarized.\n",
    "* List programming languages in Data Science\n",
    "* Frequently utilized libraries within the Data Science domain\n",
    "* Insights on the landscape of Data Science tools"
   ]
  },
  {
   "cell_type": "markdown",
   "id": "6ac490b6",
   "metadata": {},
   "source": [
    "### Exercise 4 - Create a markdown cell to list data science languages\n",
    "\n",
    "Some of the popular languages that Data Scientists use are:\n",
    "1. Python\n",
    "2. R\n",
    "3. SQL\n",
    "4. Java\n",
    "5. Julia\n",
    "6. Scala\n",
    "7. C/C++\n",
    "8. JavaScript"
   ]
  },
  {
   "cell_type": "markdown",
   "id": "d9527683",
   "metadata": {},
   "source": [
    "### Exercise 5 - Create a markdown cell to list data science libraries\n",
    "Some of the popular languages that Data Scientists use are:\n",
    "1. NumPy\n",
    "2. SciPy\n",
    "3. Pandas\n",
    "4. Matplotlib\n",
    "5. Keras\n",
    "6. Scikit-Learn\n",
    "7. PyTorch\n",
    "8. Scrapy\n",
    "9. BeautifulSoup\n",
    "10. TensorFlow"
   ]
  },
  {
   "cell_type": "markdown",
   "id": "4804dd54",
   "metadata": {},
   "source": [
    "### Exercise 6 - Create a markdown cell with a table of Data Science tools\n",
    "### Data Science Tools\n",
    "1. Apache Spark\n",
    "2. IBM SPSS\n",
    "3. Julia\n",
    "4. Jupyter Notebook\n",
    "5. Keras\n",
    "6. Matlab\n",
    "7. Matplotlib\n",
    "8. NumPy\n",
    "9. Pandas\n",
    "10. Python\n",
    "11. PyTorch\n",
    "12. R\n",
    "13. SAS\n",
    "14. Scikit-learn\n",
    "15. SciPy\n",
    "16. TensorFlow\n",
    "17. Weka\n",
    "\n"
   ]
  },
  {
   "cell_type": "markdown",
   "id": "6bc48a8c",
   "metadata": {},
   "source": [
    "###  Exercise 7 - Create a markdown cell introducing arithmetic expression examples\n",
    "### Below are a few examples of evaluating arithmetic expressions in Python\n"
   ]
  },
  {
   "cell_type": "code",
   "execution_count": 19,
   "id": "8ceb2049",
   "metadata": {},
   "outputs": [
    {
     "name": "stdout",
     "output_type": "stream",
     "text": [
      "Value of x is: 25\n",
      "False\n",
      "Value of x is: 5\n",
      "True\n",
      "Value of x is: 150\n",
      "False\n",
      "Value of x is: 4.0\n",
      "True\n"
     ]
    }
   ],
   "source": [
    "# Arithmetic Expressions\n",
    "# using the addition operator\n",
    "a=10\n",
    "b=15\n",
    "x = a+b\n",
    "print('Value of x is:', x)\n",
    "print(eval('x<10'))\n",
    "# using the Subtraction operator\n",
    "a=20\n",
    "b=15\n",
    "x = a-b\n",
    "print('Value of x is:', x)\n",
    "print(eval('x<10'))\n",
    "# using the Multiplication operator\n",
    "a=10\n",
    "b=15\n",
    "x = a*b\n",
    "print('Value of x is:', x)\n",
    "print(eval('x<10'))\n",
    "# using the division operator\n",
    "a=20\n",
    "b=5\n",
    "x = a/b\n",
    "print('Value of x is:', x)\n",
    "print(eval('x<10'))\n"
   ]
  },
  {
   "cell_type": "markdown",
   "id": "7436a05b",
   "metadata": {},
   "source": [
    "### Exercise 8 - Create a code cell to multiply and add numbers"
   ]
  },
  {
   "cell_type": "code",
   "execution_count": 17,
   "id": "341c767d",
   "metadata": {},
   "outputs": [
    {
     "name": "stdout",
     "output_type": "stream",
     "text": [
      "The result is :  17\n"
     ]
    }
   ],
   "source": [
    "#This a simple arithmetic expression to mutiply then add integers\n",
    "x=(3*4)+5\n",
    "print('The result is : ', x)"
   ]
  },
  {
   "cell_type": "markdown",
   "id": "b0a171f0",
   "metadata": {},
   "source": [
    "### Exercise 9 - Create a code cell to convert minutes to hours"
   ]
  },
  {
   "cell_type": "code",
   "execution_count": 7,
   "id": "c5fe15d8",
   "metadata": {},
   "outputs": [
    {
     "name": "stdout",
     "output_type": "stream",
     "text": [
      "Enter time in minutes: 200\n",
      "Hours= 3\n"
     ]
    }
   ],
   "source": [
    "#This will convert 200 minutes to hours by diving by 60\n",
    "\n",
    "min=int(input(\"Enter time in minutes: \"))\n",
    "h=min//60\n",
    "m=float(h)\n",
    "print(\"Hours=\",h)\n",
    "#print(\"Minutes=\",m)\n"
   ]
  },
  {
   "cell_type": "markdown",
   "id": "e142372d",
   "metadata": {},
   "source": [
    "### Exercise 10 - Insert a markdown cell to list Objectives"
   ]
  },
  {
   "cell_type": "markdown",
   "id": "85f0efc2",
   "metadata": {},
   "source": [
    "### Objectives:\n",
    "The objective of understanding various tools in the data science journey is to leverage their capabilities effectively, enabling efficient data collection, analysis, visualization, and interpretation.A key takeaway from the course is that mastering of these tools empowers data professionals to extract actionable insights, make informed decisions, and drive innovation in their respective domains\n",
    "#### List popular languages for Data Science\n",
    "Python\n",
    "* R\n",
    "* SQL\n",
    "* Java \n",
    "* Julia"
   ]
  },
  {
   "cell_type": "markdown",
   "id": "4fdbe213",
   "metadata": {},
   "source": [
    "### Exercise 11 - Create a markdown cell to indicate the Author's name\n",
    "Savita Ganapati"
   ]
  }
 ],
 "metadata": {
  "kernelspec": {
   "display_name": "Python 3 (ipykernel)",
   "language": "python",
   "name": "python3"
  },
  "language_info": {
   "codemirror_mode": {
    "name": "ipython",
    "version": 3
   },
   "file_extension": ".py",
   "mimetype": "text/x-python",
   "name": "python",
   "nbconvert_exporter": "python",
   "pygments_lexer": "ipython3",
   "version": "3.9.13"
  }
 },
 "nbformat": 4,
 "nbformat_minor": 5
}
